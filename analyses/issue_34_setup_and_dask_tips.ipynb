{
 "cells": [
  {
   "cell_type": "code",
   "execution_count": 1,
   "metadata": {},
   "outputs": [
    {
     "name": "stderr",
     "output_type": "stream",
     "text": [
      "/home/bird/miniconda3/envs/ovscrptd/lib/python3.6/site-packages/distributed/config.py:20: YAMLLoadWarning: calling yaml.load() without Loader=... is deprecated, as the default Loader is unsafe. Please read https://msg.pyyaml.org/load for full details.\n",
      "  defaults = yaml.load(f)\n"
     ]
    },
    {
     "data": {
      "text/html": [
       "<table style=\"border: 2px solid white;\">\n",
       "<tr>\n",
       "<td style=\"vertical-align: top; border: 0px solid white\">\n",
       "<h3>Client</h3>\n",
       "<ul>\n",
       "  <li><b>Scheduler: </b>tcp://127.0.0.1:35229\n",
       "  <li><b>Dashboard: </b><a href='http://127.0.0.1:8787/status' target='_blank'>http://127.0.0.1:8787/status</a>\n",
       "</ul>\n",
       "</td>\n",
       "<td style=\"vertical-align: top; border: 0px solid white\">\n",
       "<h3>Cluster</h3>\n",
       "<ul>\n",
       "  <li><b>Workers: </b>4</li>\n",
       "  <li><b>Cores: </b>12</li>\n",
       "  <li><b>Memory: </b>33.35 GB</li>\n",
       "</ul>\n",
       "</td>\n",
       "</tr>\n",
       "</table>"
      ],
      "text/plain": [
       "<Client: scheduler='tcp://127.0.0.1:35229' processes=4 cores=12>"
      ]
     },
     "execution_count": 1,
     "metadata": {},
     "output_type": "execute_result"
    }
   ],
   "source": [
    "import dask.dataframe as dd\n",
    "from dask.distributed import Client\n",
    "\n",
    "Client()"
   ]
  },
  {
   "cell_type": "markdown",
   "metadata": {},
   "source": [
    "DASK TIP 0: Click on the dashboard link - you'll get lots of helpful progress bars so you can see how your computation is going.\n",
    "\n",
    "\n",
    "DASK TIP 1: Only read the columns you need - things will go much faster"
   ]
  },
  {
   "cell_type": "code",
   "execution_count": 2,
   "metadata": {},
   "outputs": [],
   "source": [
    "df = dd.read_parquet(\n",
    "    'sample_10percent_value_1000_only.parquet', engine='pyarrow',\n",
    "    columns=['argument_0', 'symbol', 'location', 'script_url', 'value_1000']\n",
    ")"
   ]
  },
  {
   "cell_type": "code",
   "execution_count": 4,
   "metadata": {},
   "outputs": [
    {
     "data": {
      "text/html": [
       "<div>\n",
       "<style scoped>\n",
       "    .dataframe tbody tr th:only-of-type {\n",
       "        vertical-align: middle;\n",
       "    }\n",
       "\n",
       "    .dataframe tbody tr th {\n",
       "        vertical-align: top;\n",
       "    }\n",
       "\n",
       "    .dataframe thead th {\n",
       "        text-align: right;\n",
       "    }\n",
       "</style>\n",
       "<table border=\"1\" class=\"dataframe\">\n",
       "  <thead>\n",
       "    <tr style=\"text-align: right;\">\n",
       "      <th></th>\n",
       "      <th>argument_0</th>\n",
       "      <th>symbol</th>\n",
       "      <th>location</th>\n",
       "      <th>script_url</th>\n",
       "      <th>value_1000</th>\n",
       "    </tr>\n",
       "  </thead>\n",
       "  <tbody>\n",
       "    <tr>\n",
       "      <th>27753</th>\n",
       "      <td>None</td>\n",
       "      <td>window.document.cookie</td>\n",
       "      <td>https://www.accenture.com/ca-en/terms-of-use</td>\n",
       "      <td>https://js.hs-analytics.net/analytics/15133893...</td>\n",
       "      <td>AMCV_AAB73BC75245B44A0A490D4D%40AdobeOrg=14061...</td>\n",
       "    </tr>\n",
       "    <tr>\n",
       "      <th>27754</th>\n",
       "      <td>None</td>\n",
       "      <td>window.document.cookie</td>\n",
       "      <td>https://www.accenture.com/ca-en/terms-of-use</td>\n",
       "      <td>https://js.hs-analytics.net/analytics/15133893...</td>\n",
       "      <td>AMCV_AAB73BC75245B44A0A490D4D%40AdobeOrg=14061...</td>\n",
       "    </tr>\n",
       "    <tr>\n",
       "      <th>27755</th>\n",
       "      <td>None</td>\n",
       "      <td>window.document.cookie</td>\n",
       "      <td>https://www.accenture.com/ca-en/terms-of-use</td>\n",
       "      <td>https://js.hs-analytics.net/analytics/15133893...</td>\n",
       "      <td>AMCV_AAB73BC75245B44A0A490D4D%40AdobeOrg=14061...</td>\n",
       "    </tr>\n",
       "    <tr>\n",
       "      <th>27756</th>\n",
       "      <td>None</td>\n",
       "      <td>window.document.cookie</td>\n",
       "      <td>https://www.accenture.com/ca-en/terms-of-use</td>\n",
       "      <td>https://js.hs-analytics.net/analytics/15133893...</td>\n",
       "      <td>hsfirstvisit=;expires=Sun, 01 Jan 2006 00:00:0...</td>\n",
       "    </tr>\n",
       "    <tr>\n",
       "      <th>27757</th>\n",
       "      <td>None</td>\n",
       "      <td>window.document.cookie</td>\n",
       "      <td>https://www.accenture.com/ca-en/terms-of-use</td>\n",
       "      <td>https://js.hs-analytics.net/analytics/15133893...</td>\n",
       "      <td>AMCV_AAB73BC75245B44A0A490D4D%40AdobeOrg=14061...</td>\n",
       "    </tr>\n",
       "  </tbody>\n",
       "</table>\n",
       "</div>"
      ],
      "text/plain": [
       "      argument_0                  symbol  \\\n",
       "27753       None  window.document.cookie   \n",
       "27754       None  window.document.cookie   \n",
       "27755       None  window.document.cookie   \n",
       "27756       None  window.document.cookie   \n",
       "27757       None  window.document.cookie   \n",
       "\n",
       "                                           location  \\\n",
       "27753  https://www.accenture.com/ca-en/terms-of-use   \n",
       "27754  https://www.accenture.com/ca-en/terms-of-use   \n",
       "27755  https://www.accenture.com/ca-en/terms-of-use   \n",
       "27756  https://www.accenture.com/ca-en/terms-of-use   \n",
       "27757  https://www.accenture.com/ca-en/terms-of-use   \n",
       "\n",
       "                                              script_url  \\\n",
       "27753  https://js.hs-analytics.net/analytics/15133893...   \n",
       "27754  https://js.hs-analytics.net/analytics/15133893...   \n",
       "27755  https://js.hs-analytics.net/analytics/15133893...   \n",
       "27756  https://js.hs-analytics.net/analytics/15133893...   \n",
       "27757  https://js.hs-analytics.net/analytics/15133893...   \n",
       "\n",
       "                                              value_1000  \n",
       "27753  AMCV_AAB73BC75245B44A0A490D4D%40AdobeOrg=14061...  \n",
       "27754  AMCV_AAB73BC75245B44A0A490D4D%40AdobeOrg=14061...  \n",
       "27755  AMCV_AAB73BC75245B44A0A490D4D%40AdobeOrg=14061...  \n",
       "27756  hsfirstvisit=;expires=Sun, 01 Jan 2006 00:00:0...  \n",
       "27757  AMCV_AAB73BC75245B44A0A490D4D%40AdobeOrg=14061...  "
      ]
     },
     "execution_count": 4,
     "metadata": {},
     "output_type": "execute_result"
    }
   ],
   "source": [
    "# Get hs-analytics scripts\n",
    "hs = df[df.script_url.str.contains('hs-analytics')]\n",
    "hs.head()"
   ]
  },
  {
   "cell_type": "code",
   "execution_count": 6,
   "metadata": {},
   "outputs": [
    {
     "data": {
      "text/html": [
       "<div>\n",
       "<style scoped>\n",
       "    .dataframe tbody tr th:only-of-type {\n",
       "        vertical-align: middle;\n",
       "    }\n",
       "\n",
       "    .dataframe tbody tr th {\n",
       "        vertical-align: top;\n",
       "    }\n",
       "\n",
       "    .dataframe thead th {\n",
       "        text-align: right;\n",
       "    }\n",
       "</style>\n",
       "<table border=\"1\" class=\"dataframe\">\n",
       "  <thead>\n",
       "    <tr style=\"text-align: right;\">\n",
       "      <th></th>\n",
       "      <th>argument_0</th>\n",
       "      <th>symbol</th>\n",
       "      <th>location</th>\n",
       "      <th>script_url</th>\n",
       "      <th>value_1000</th>\n",
       "    </tr>\n",
       "  </thead>\n",
       "  <tbody>\n",
       "    <tr>\n",
       "      <th>6091</th>\n",
       "      <td>None</td>\n",
       "      <td>window.navigator.plugins[Shockwave Flash].length</td>\n",
       "      <td>http://www.elcorteingles.es/moda/accesorios/es...</td>\n",
       "      <td>http://www.elcorteingles.es/akam/10/240f2be0</td>\n",
       "      <td>2</td>\n",
       "    </tr>\n",
       "    <tr>\n",
       "      <th>6092</th>\n",
       "      <td>None</td>\n",
       "      <td>window.navigator.plugins[Shockwave Flash].name</td>\n",
       "      <td>http://www.elcorteingles.es/moda/accesorios/es...</td>\n",
       "      <td>http://www.elcorteingles.es/akam/10/240f2be0</td>\n",
       "      <td>Shockwave Flash</td>\n",
       "    </tr>\n",
       "    <tr>\n",
       "      <th>6093</th>\n",
       "      <td>None</td>\n",
       "      <td>window.navigator.plugins[Shockwave Flash].desc...</td>\n",
       "      <td>http://www.elcorteingles.es/moda/accesorios/es...</td>\n",
       "      <td>http://www.elcorteingles.es/akam/10/240f2be0</td>\n",
       "      <td>Shockwave Flash 28.0 r0</td>\n",
       "    </tr>\n",
       "    <tr>\n",
       "      <th>6094</th>\n",
       "      <td>None</td>\n",
       "      <td>window.navigator.plugins[Shockwave Flash].file...</td>\n",
       "      <td>http://www.elcorteingles.es/moda/accesorios/es...</td>\n",
       "      <td>http://www.elcorteingles.es/akam/10/240f2be0</td>\n",
       "      <td>libflashplayer.so</td>\n",
       "    </tr>\n",
       "    <tr>\n",
       "      <th>6095</th>\n",
       "      <td>None</td>\n",
       "      <td>window.navigator.mimeTypes[application/x-shock...</td>\n",
       "      <td>http://www.elcorteingles.es/moda/accesorios/es...</td>\n",
       "      <td>http://www.elcorteingles.es/akam/10/240f2be0</td>\n",
       "      <td>Shockwave Flash</td>\n",
       "    </tr>\n",
       "  </tbody>\n",
       "</table>\n",
       "</div>"
      ],
      "text/plain": [
       "     argument_0                                             symbol  \\\n",
       "6091       None   window.navigator.plugins[Shockwave Flash].length   \n",
       "6092       None     window.navigator.plugins[Shockwave Flash].name   \n",
       "6093       None  window.navigator.plugins[Shockwave Flash].desc...   \n",
       "6094       None  window.navigator.plugins[Shockwave Flash].file...   \n",
       "6095       None  window.navigator.mimeTypes[application/x-shock...   \n",
       "\n",
       "                                               location  \\\n",
       "6091  http://www.elcorteingles.es/moda/accesorios/es...   \n",
       "6092  http://www.elcorteingles.es/moda/accesorios/es...   \n",
       "6093  http://www.elcorteingles.es/moda/accesorios/es...   \n",
       "6094  http://www.elcorteingles.es/moda/accesorios/es...   \n",
       "6095  http://www.elcorteingles.es/moda/accesorios/es...   \n",
       "\n",
       "                                        script_url               value_1000  \n",
       "6091  http://www.elcorteingles.es/akam/10/240f2be0                        2  \n",
       "6092  http://www.elcorteingles.es/akam/10/240f2be0          Shockwave Flash  \n",
       "6093  http://www.elcorteingles.es/akam/10/240f2be0  Shockwave Flash 28.0 r0  \n",
       "6094  http://www.elcorteingles.es/akam/10/240f2be0        libflashplayer.so  \n",
       "6095  http://www.elcorteingles.es/akam/10/240f2be0          Shockwave Flash  "
      ]
     },
     "execution_count": 6,
     "metadata": {},
     "output_type": "execute_result"
    }
   ],
   "source": [
    "# Get akam scripts\n",
    "akam = df[df.script_url.str.contains('/akam/')]\n",
    "akam.head()"
   ]
  },
  {
   "cell_type": "code",
   "execution_count": 14,
   "metadata": {},
   "outputs": [
    {
     "data": {
      "text/html": [
       "<div>\n",
       "<style scoped>\n",
       "    .dataframe tbody tr th:only-of-type {\n",
       "        vertical-align: middle;\n",
       "    }\n",
       "\n",
       "    .dataframe tbody tr th {\n",
       "        vertical-align: top;\n",
       "    }\n",
       "\n",
       "    .dataframe thead th {\n",
       "        text-align: right;\n",
       "    }\n",
       "</style>\n",
       "<table border=\"1\" class=\"dataframe\">\n",
       "  <thead>\n",
       "    <tr style=\"text-align: right;\">\n",
       "      <th></th>\n",
       "      <th>argument_0</th>\n",
       "      <th>symbol</th>\n",
       "      <th>location</th>\n",
       "      <th>script_url</th>\n",
       "      <th>value_1000</th>\n",
       "    </tr>\n",
       "  </thead>\n",
       "  <tbody>\n",
       "  </tbody>\n",
       "</table>\n",
       "</div>"
      ],
      "text/plain": [
       "Empty DataFrame\n",
       "Columns: [argument_0, symbol, location, script_url, value_1000]\n",
       "Index: []"
      ]
     },
     "execution_count": 14,
     "metadata": {},
     "output_type": "execute_result"
    }
   ],
   "source": [
    "# Get fingerprintjs2 scripts\n",
    "fp2 = df[df.script_url.str.contains('fingerprint2')]\n",
    "fp2.head()"
   ]
  },
  {
   "cell_type": "code",
   "execution_count": 15,
   "metadata": {},
   "outputs": [
    {
     "data": {
      "text/plain": [
       "10649"
      ]
     },
     "execution_count": 15,
     "metadata": {},
     "output_type": "execute_result"
    }
   ],
   "source": [
    "len(fp2)"
   ]
  },
  {
   "cell_type": "markdown",
   "metadata": {},
   "source": [
    "WHAT'S GOING ON?! `head()` returned nothing, but the next cell is saying that the dataframe is 10k rows long.\n",
    "\n",
    "DASK TIP 2: `head()` returns quickly because it only looks in the first partition.\n",
    "\n",
    "DASK TIP 3: You need to call `compute()` to get a full set of results or perform certain actions which automatically start computing - most common are len and writing to disk\n",
    "\n",
    "DASK TIP 4: If you just want to quickly look at some data just get the first partition with `get_partition`"
   ]
  },
  {
   "cell_type": "code",
   "execution_count": 20,
   "metadata": {},
   "outputs": [
    {
     "name": "stdout",
     "output_type": "stream",
     "text": [
      "\n",
      "    Complete dataset is 11,292,867 rows.\n",
      "    Partition is 37,022 rows.\n",
      "    Type of dataset is <class 'dask.dataframe.core.DataFrame'>.\n",
      "    Type of part_0 is <class 'dask.dataframe.core.DataFrame'>.\n",
      "\n"
     ]
    }
   ],
   "source": [
    "part_0 = df.get_partition(0)\n",
    "print(f'''\n",
    "    Complete dataset is {len(df):,} rows.\n",
    "    Partition is {len(part_0):,} rows.\n",
    "    Type of dataset is {type(df)}.\n",
    "    Type of part_0 is {type(part_0)}.\n",
    "''')"
   ]
  },
  {
   "cell_type": "markdown",
   "metadata": {},
   "source": [
    "DASK TIP 5: Calling `compute()` returns a pandas dataframe"
   ]
  },
  {
   "cell_type": "code",
   "execution_count": 22,
   "metadata": {},
   "outputs": [
    {
     "name": "stdout",
     "output_type": "stream",
     "text": [
      "\n",
      "    Type of part_0_pandas is <class 'pandas.core.frame.DataFrame'>.\n",
      "    part_0_pandas is 37,022 rows.\n",
      "\n"
     ]
    }
   ],
   "source": [
    "part_0_pandas = part_0.compute()\n",
    "print(f'''\n",
    "    Type of part_0_pandas is {type(part_0_pandas)}.\n",
    "    part_0_pandas is {len(part_0_pandas):,} rows.\n",
    "''')"
   ]
  },
  {
   "cell_type": "markdown",
   "metadata": {},
   "source": [
    "DASK TIP 6: Can you fit your data in memory? If yes, then you can just use regular pandas. Find out with the memory usage tool. If you've only selected a few small columns you may be good to go."
   ]
  },
  {
   "cell_type": "code",
   "execution_count": 28,
   "metadata": {},
   "outputs": [],
   "source": [
    "df = dd.read_parquet(\n",
    "    'sample_10percent_value_1000_only.parquet', engine='pyarrow',\n",
    "    columns=['argument_0', 'symbol', 'script_url']\n",
    ")\n",
    "memory_usage = df.memory_usage(deep=True).compute()"
   ]
  },
  {
   "cell_type": "code",
   "execution_count": 24,
   "metadata": {},
   "outputs": [
    {
     "data": {
      "text/plain": [
       "Index         0.000024\n",
       "argument_0    0.718110\n",
       "script_url    1.528499\n",
       "symbol        0.923305\n",
       "dtype: float64"
      ]
     },
     "execution_count": 24,
     "metadata": {},
     "output_type": "execute_result"
    }
   ],
   "source": [
    "memory_usage / 1e9  # Print in GB"
   ]
  },
  {
   "cell_type": "code",
   "execution_count": 25,
   "metadata": {},
   "outputs": [
    {
     "data": {
      "text/plain": [
       "3.169938267"
      ]
     },
     "execution_count": 25,
     "metadata": {},
     "output_type": "execute_result"
    }
   ],
   "source": [
    "memory_usage.sum() / 1e9"
   ]
  },
  {
   "cell_type": "markdown",
   "metadata": {},
   "source": [
    "3GB - Great - I can just take the whole dataframe and convert it into a pandas dataframe"
   ]
  },
  {
   "cell_type": "code",
   "execution_count": 29,
   "metadata": {},
   "outputs": [],
   "source": [
    "df = df.compute()"
   ]
  },
  {
   "cell_type": "code",
   "execution_count": 30,
   "metadata": {},
   "outputs": [
    {
     "data": {
      "text/html": [
       "<div>\n",
       "<style scoped>\n",
       "    .dataframe tbody tr th:only-of-type {\n",
       "        vertical-align: middle;\n",
       "    }\n",
       "\n",
       "    .dataframe tbody tr th {\n",
       "        vertical-align: top;\n",
       "    }\n",
       "\n",
       "    .dataframe thead th {\n",
       "        text-align: right;\n",
       "    }\n",
       "</style>\n",
       "<table border=\"1\" class=\"dataframe\">\n",
       "  <thead>\n",
       "    <tr style=\"text-align: right;\">\n",
       "      <th></th>\n",
       "      <th>argument_0</th>\n",
       "      <th>symbol</th>\n",
       "      <th>script_url</th>\n",
       "    </tr>\n",
       "  </thead>\n",
       "  <tbody>\n",
       "    <tr>\n",
       "      <th>0</th>\n",
       "      <td>None</td>\n",
       "      <td>window.name</td>\n",
       "      <td>https://vk.com/js/api/xdm.js?1449919642</td>\n",
       "    </tr>\n",
       "    <tr>\n",
       "      <th>1</th>\n",
       "      <td>None</td>\n",
       "      <td>window.name</td>\n",
       "      <td>https://vk.com/js/api/xdm.js?1449919642</td>\n",
       "    </tr>\n",
       "    <tr>\n",
       "      <th>2</th>\n",
       "      <td>None</td>\n",
       "      <td>window.navigator.userAgent</td>\n",
       "      <td>https://vk.com/js/al/aes_light.js?592436914</td>\n",
       "    </tr>\n",
       "    <tr>\n",
       "      <th>3</th>\n",
       "      <td>None</td>\n",
       "      <td>window.navigator.userAgent</td>\n",
       "      <td>https://cpro.baidustatic.com/cpro/ui/noexpire/...</td>\n",
       "    </tr>\n",
       "    <tr>\n",
       "      <th>4</th>\n",
       "      <td>None</td>\n",
       "      <td>window.document.cookie</td>\n",
       "      <td>https://apis.google.com/js/plusone.js?_=151338...</td>\n",
       "    </tr>\n",
       "  </tbody>\n",
       "</table>\n",
       "</div>"
      ],
      "text/plain": [
       "  argument_0                      symbol  \\\n",
       "0       None                 window.name   \n",
       "1       None                 window.name   \n",
       "2       None  window.navigator.userAgent   \n",
       "3       None  window.navigator.userAgent   \n",
       "4       None      window.document.cookie   \n",
       "\n",
       "                                          script_url  \n",
       "0            https://vk.com/js/api/xdm.js?1449919642  \n",
       "1            https://vk.com/js/api/xdm.js?1449919642  \n",
       "2        https://vk.com/js/al/aes_light.js?592436914  \n",
       "3  https://cpro.baidustatic.com/cpro/ui/noexpire/...  \n",
       "4  https://apis.google.com/js/plusone.js?_=151338...  "
      ]
     },
     "execution_count": 30,
     "metadata": {},
     "output_type": "execute_result"
    }
   ],
   "source": [
    "df.head()"
   ]
  },
  {
   "cell_type": "code",
   "execution_count": null,
   "metadata": {},
   "outputs": [],
   "source": []
  }
 ],
 "metadata": {
  "kernelspec": {
   "display_name": "Python 3",
   "language": "python",
   "name": "python3"
  },
  "language_info": {
   "codemirror_mode": {
    "name": "ipython",
    "version": 3
   },
   "file_extension": ".py",
   "mimetype": "text/x-python",
   "name": "python",
   "nbconvert_exporter": "python",
   "pygments_lexer": "ipython3",
   "version": "3.6.7"
  }
 },
 "nbformat": 4,
 "nbformat_minor": 2
}
